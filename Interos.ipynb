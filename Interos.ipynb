{
  "nbformat": 4,
  "nbformat_minor": 0,
  "metadata": {
    "colab": {
      "name": "Interos.ipynb",
      "provenance": [],
      "collapsed_sections": [],
      "authorship_tag": "ABX9TyPV06KJlUG9y+/KwMuUAYAn",
      "include_colab_link": true
    },
    "kernelspec": {
      "name": "python3",
      "display_name": "Python 3"
    },
    "accelerator": "GPU"
  },
  "cells": [
    {
      "cell_type": "markdown",
      "metadata": {
        "id": "view-in-github",
        "colab_type": "text"
      },
      "source": [
        "<a href=\"https://colab.research.google.com/github/Csmith715/BERT_NSP/blob/master/Interos.ipynb\" target=\"_parent\"><img src=\"https://colab.research.google.com/assets/colab-badge.svg\" alt=\"Open In Colab\"/></a>"
      ]
    },
    {
      "cell_type": "markdown",
      "metadata": {
        "id": "4kM_rXEB8sYY",
        "colab_type": "text"
      },
      "source": [
        "# Data Exploration"
      ]
    },
    {
      "cell_type": "code",
      "metadata": {
        "id": "7emcVQUu8-OV",
        "colab_type": "code",
        "colab": {}
      },
      "source": [
        "!pip3 install -q tensorflow_gpu==2.2.0"
      ],
      "execution_count": null,
      "outputs": []
    },
    {
      "cell_type": "code",
      "metadata": {
        "id": "Ho-1GYPk9ChF",
        "colab_type": "code",
        "colab": {}
      },
      "source": [
        "!pip3 install -q ktrain"
      ],
      "execution_count": null,
      "outputs": []
    },
    {
      "cell_type": "code",
      "metadata": {
        "id": "ySZihcqh8iCf",
        "colab_type": "code",
        "colab": {}
      },
      "source": [
        "import pandas as pd\n",
        "import numpy as np\n",
        "\n",
        "import tensorflow\n",
        "import ktrain\n",
        "from ktrain import text\n",
        "from sklearn.model_selection import train_test_split"
      ],
      "execution_count": 3,
      "outputs": []
    },
    {
      "cell_type": "code",
      "metadata": {
        "id": "V3rWI7Qy9GlM",
        "colab_type": "code",
        "colab": {
          "base_uri": "https://localhost:8080/",
          "height": 204
        },
        "outputId": "0360996b-952c-426c-ecdf-95a06c21337c"
      },
      "source": [
        "df = pd.read_csv('topics.csv')\n",
        "df.head()"
      ],
      "execution_count": 5,
      "outputs": [
        {
          "output_type": "display_data",
          "data": {
            "text/html": [
              "\n",
              "  <style>\n",
              "    pre {\n",
              "        white-space: pre-wrap;\n",
              "    }\n",
              "  </style>\n",
              "  "
            ],
            "text/plain": [
              "<IPython.core.display.HTML object>"
            ]
          },
          "metadata": {
            "tags": []
          }
        },
        {
          "output_type": "execute_result",
          "data": {
            "text/html": [
              "<div>\n",
              "<style scoped>\n",
              "    .dataframe tbody tr th:only-of-type {\n",
              "        vertical-align: middle;\n",
              "    }\n",
              "\n",
              "    .dataframe tbody tr th {\n",
              "        vertical-align: top;\n",
              "    }\n",
              "\n",
              "    .dataframe thead th {\n",
              "        text-align: right;\n",
              "    }\n",
              "</style>\n",
              "<table border=\"1\" class=\"dataframe\">\n",
              "  <thead>\n",
              "    <tr style=\"text-align: right;\">\n",
              "      <th></th>\n",
              "      <th>Unnamed: 0</th>\n",
              "      <th>question_text</th>\n",
              "      <th>question_topic</th>\n",
              "    </tr>\n",
              "  </thead>\n",
              "  <tbody>\n",
              "    <tr>\n",
              "      <th>0</th>\n",
              "      <td>0</td>\n",
              "      <td>Hi! If I sign up for your email list, can I se...</td>\n",
              "      <td>Sales/Promotions</td>\n",
              "    </tr>\n",
              "    <tr>\n",
              "      <th>1</th>\n",
              "      <td>1</td>\n",
              "      <td>I'm going to be out of the country for about a...</td>\n",
              "      <td>Shipping</td>\n",
              "    </tr>\n",
              "    <tr>\n",
              "      <th>2</th>\n",
              "      <td>2</td>\n",
              "      <td>I was wondering if you'd be able to overnight ...</td>\n",
              "      <td>Shipping</td>\n",
              "    </tr>\n",
              "    <tr>\n",
              "      <th>3</th>\n",
              "      <td>3</td>\n",
              "      <td>The Swingline electronic stapler (472555) look...</td>\n",
              "      <td>Shipping</td>\n",
              "    </tr>\n",
              "    <tr>\n",
              "      <th>4</th>\n",
              "      <td>4</td>\n",
              "      <td>I think this cosmetic bag would work great for...</td>\n",
              "      <td>Shipping</td>\n",
              "    </tr>\n",
              "  </tbody>\n",
              "</table>\n",
              "</div>"
            ],
            "text/plain": [
              "   Unnamed: 0  ...    question_topic\n",
              "0           0  ...  Sales/Promotions\n",
              "1           1  ...          Shipping\n",
              "2           2  ...          Shipping\n",
              "3           3  ...          Shipping\n",
              "4           4  ...          Shipping\n",
              "\n",
              "[5 rows x 3 columns]"
            ]
          },
          "metadata": {
            "tags": []
          },
          "execution_count": 5
        }
      ]
    },
    {
      "cell_type": "markdown",
      "metadata": {
        "id": "GHKilrZE9a5Y",
        "colab_type": "text"
      },
      "source": [
        "With any classificaiton task, it is important to know the distribution of the target classes."
      ]
    },
    {
      "cell_type": "code",
      "metadata": {
        "id": "yxcvQsqk9YQT",
        "colab_type": "code",
        "colab": {
          "base_uri": "https://localhost:8080/",
          "height": 153
        },
        "outputId": "cc6f2686-d4cf-457d-9c2d-b59f4a0fe773"
      },
      "source": [
        "df.question_topic.value_counts()"
      ],
      "execution_count": 6,
      "outputs": [
        {
          "output_type": "display_data",
          "data": {
            "text/html": [
              "\n",
              "  <style>\n",
              "    pre {\n",
              "        white-space: pre-wrap;\n",
              "    }\n",
              "  </style>\n",
              "  "
            ],
            "text/plain": [
              "<IPython.core.display.HTML object>"
            ]
          },
          "metadata": {
            "tags": []
          }
        },
        {
          "output_type": "execute_result",
          "data": {
            "text/plain": [
              "Product Specifications    839\n",
              "Product Availability      833\n",
              "Product Comparison        806\n",
              "Shipping                  799\n",
              "Returns & Refunds         768\n",
              "Sales/Promotions          505\n",
              "Omnichannel               450\n",
              "Name: question_topic, dtype: int64"
            ]
          },
          "metadata": {
            "tags": []
          },
          "execution_count": 6
        }
      ]
    },
    {
      "cell_type": "code",
      "metadata": {
        "id": "S189NXM19e_G",
        "colab_type": "code",
        "colab": {
          "base_uri": "https://localhost:8080/",
          "height": 52
        },
        "outputId": "7be5cc62-9691-4a5c-c22b-445fd9550f73"
      },
      "source": [
        "df.question_text[0]"
      ],
      "execution_count": 7,
      "outputs": [
        {
          "output_type": "display_data",
          "data": {
            "text/html": [
              "\n",
              "  <style>\n",
              "    pre {\n",
              "        white-space: pre-wrap;\n",
              "    }\n",
              "  </style>\n",
              "  "
            ],
            "text/plain": [
              "<IPython.core.display.HTML object>"
            ]
          },
          "metadata": {
            "tags": []
          }
        },
        {
          "output_type": "execute_result",
          "data": {
            "application/vnd.google.colaboratory.intrinsic+json": {
              "type": "string"
            },
            "text/plain": [
              "\"Hi! If I sign up for your email list, can I select to get emails exclusively for sale products? I'm really only interested in shopping clearance deals.\""
            ]
          },
          "metadata": {
            "tags": []
          },
          "execution_count": 7
        }
      ]
    },
    {
      "cell_type": "markdown",
      "metadata": {
        "id": "RqLXm2c49lPI",
        "colab_type": "text"
      },
      "source": [
        "I next will look to see if there are any abnormalities in the questions. For the most part, I am just looking for questions that might be too short or that might be abnormally long."
      ]
    },
    {
      "cell_type": "code",
      "metadata": {
        "id": "lEKF7cUx9mCn",
        "colab_type": "code",
        "colab": {
          "base_uri": "https://localhost:8080/",
          "height": 51
        },
        "outputId": "9a5d4691-c5bd-4a2e-c580-3cb2be4b7f4d"
      },
      "source": [
        "print('Shortest question: ', min([len(q) for q in df.question_text]))\n",
        "print('Longest question: ', max([len(q) for q in df.question_text]))"
      ],
      "execution_count": 8,
      "outputs": [
        {
          "output_type": "display_data",
          "data": {
            "text/html": [
              "\n",
              "  <style>\n",
              "    pre {\n",
              "        white-space: pre-wrap;\n",
              "    }\n",
              "  </style>\n",
              "  "
            ],
            "text/plain": [
              "<IPython.core.display.HTML object>"
            ]
          },
          "metadata": {
            "tags": []
          }
        },
        {
          "output_type": "stream",
          "text": [
            "Shortest question:  30\n",
            "Longest question:  461\n"
          ],
          "name": "stdout"
        }
      ]
    },
    {
      "cell_type": "markdown",
      "metadata": {
        "id": "52IHANly-dee",
        "colab_type": "text"
      },
      "source": [
        "# Train Evaluate and Inspect the Model"
      ]
    },
    {
      "cell_type": "markdown",
      "metadata": {
        "id": "e3AAroMCBYQ7",
        "colab_type": "text"
      },
      "source": [
        "The first step is to split the data into train/test portions. I decided on an 85/15 split."
      ]
    },
    {
      "cell_type": "code",
      "metadata": {
        "id": "V5DqRklH9q3G",
        "colab_type": "code",
        "colab": {
          "base_uri": "https://localhost:8080/",
          "height": 85
        },
        "outputId": "165a77af-d9ad-448e-f56f-70f3e5012d41"
      },
      "source": [
        "X_train, X_test, y_train, y_test = train_test_split(df.question_text, df.question_topic, test_size=0.15, random_state=22)\n",
        "print(len(X_train))\n",
        "print(len(y_train))\n",
        "print(len(X_test))\n",
        "print(len(y_test))"
      ],
      "execution_count": 9,
      "outputs": [
        {
          "output_type": "display_data",
          "data": {
            "text/html": [
              "\n",
              "  <style>\n",
              "    pre {\n",
              "        white-space: pre-wrap;\n",
              "    }\n",
              "  </style>\n",
              "  "
            ],
            "text/plain": [
              "<IPython.core.display.HTML object>"
            ]
          },
          "metadata": {
            "tags": []
          }
        },
        {
          "output_type": "stream",
          "text": [
            "4250\n",
            "4250\n",
            "750\n",
            "750\n"
          ],
          "name": "stdout"
        }
      ]
    },
    {
      "cell_type": "markdown",
      "metadata": {
        "id": "A7arhpuiBpfe",
        "colab_type": "text"
      },
      "source": [
        "I also decided to use the bert base model and set the maximum number of tokens to analyze in each question to 65 tokens. As can be seen in the output this well encompasses the majority of the data. If a higher number had been selected, then it is possible that the model would overfit on the padding tokens."
      ]
    },
    {
      "cell_type": "code",
      "metadata": {
        "id": "NccQU1sH-w5n",
        "colab_type": "code",
        "colab": {
          "base_uri": "https://localhost:8080/",
          "height": 340
        },
        "outputId": "1237c0b7-f3a0-4d5f-d46e-5d329b3abefd"
      },
      "source": [
        "MODEL_NAME = 'bert-base-uncased'\n",
        "t = text.Transformer(MODEL_NAME, maxlen=65, classes=['Product Specifications','Product Availability','Product Comparison','Shipping','Returns & Refunds','Sales/Promotions','Omnichannel'])\n",
        "trn = t.preprocess_train(list(X_train), np.array(y_train))\n",
        "val = t.preprocess_test(list(X_test), np.array(y_test))\n",
        "model = t.get_classifier()\n",
        "learner = ktrain.get_learner(model, train_data=trn, val_data=val, batch_size=16)"
      ],
      "execution_count": 23,
      "outputs": [
        {
          "output_type": "display_data",
          "data": {
            "text/html": [
              "\n",
              "  <style>\n",
              "    pre {\n",
              "        white-space: pre-wrap;\n",
              "    }\n",
              "  </style>\n",
              "  "
            ],
            "text/plain": [
              "<IPython.core.display.HTML object>"
            ]
          },
          "metadata": {
            "tags": []
          }
        },
        {
          "output_type": "stream",
          "text": [
            "/usr/local/lib/python3.6/dist-packages/ktrain/text/preprocessor.py:400: UserWarning: The class_names argument is replacing the classes argument. Please update your code.\n",
            "  warnings.warn('The class_names argument is replacing the classes argument. Please update your code.')\n",
            "/usr/local/lib/python3.6/dist-packages/ktrain/utils.py:569: UserWarning: class_names argument was ignored, as they were extracted from string labels in dataset\n",
            "  if self.get_classes(): warnings.warn('class_names argument was ignored, as they were extracted from string labels in dataset')\n"
          ],
          "name": "stderr"
        },
        {
          "output_type": "stream",
          "text": [
            "preprocessing train...\n",
            "language: en\n",
            "train sequence lengths:\n",
            "\tmean : 30\n",
            "\t95percentile : 55\n",
            "\t99percentile : 79\n"
          ],
          "name": "stdout"
        },
        {
          "output_type": "display_data",
          "data": {
            "text/html": [
              ""
            ],
            "text/plain": [
              "<IPython.core.display.HTML object>"
            ]
          },
          "metadata": {
            "tags": []
          }
        },
        {
          "output_type": "stream",
          "text": [
            "Is Multi-Label? False\n",
            "preprocessing test...\n",
            "language: en\n",
            "test sequence lengths:\n",
            "\tmean : 31\n",
            "\t95percentile : 54\n",
            "\t99percentile : 69\n"
          ],
          "name": "stdout"
        },
        {
          "output_type": "display_data",
          "data": {
            "text/html": [
              ""
            ],
            "text/plain": [
              "<IPython.core.display.HTML object>"
            ]
          },
          "metadata": {
            "tags": []
          }
        }
      ]
    },
    {
      "cell_type": "markdown",
      "metadata": {
        "id": "aUX5kdBhCMaH",
        "colab_type": "text"
      },
      "source": [
        "One of the great aspects of the ktrain package is that it allows each researcher the ability to find the optimal learning rate for their deep learning model. This can oftentimes be an arduous task with a lot of guessing."
      ]
    },
    {
      "cell_type": "code",
      "metadata": {
        "id": "Q9fd-Bvk-_P2",
        "colab_type": "code",
        "colab": {
          "base_uri": "https://localhost:8080/",
          "height": 470
        },
        "outputId": "7461f219-99cd-48d2-9143-a568907ed739"
      },
      "source": [
        "learner.lr_find(show_plot=True, max_epochs=5)"
      ],
      "execution_count": 24,
      "outputs": [
        {
          "output_type": "display_data",
          "data": {
            "text/html": [
              "\n",
              "  <style>\n",
              "    pre {\n",
              "        white-space: pre-wrap;\n",
              "    }\n",
              "  </style>\n",
              "  "
            ],
            "text/plain": [
              "<IPython.core.display.HTML object>"
            ]
          },
          "metadata": {
            "tags": []
          }
        },
        {
          "output_type": "stream",
          "text": [
            "simulating training for different learning rates... this may take a few moments...\n",
            "Train for 265 steps\n",
            "Epoch 1/5\n",
            "265/265 [==============================] - 80s 304ms/step - loss: 1.8831 - accuracy: 0.2498\n",
            "Epoch 2/5\n",
            "265/265 [==============================] - 67s 252ms/step - loss: 0.6215 - accuracy: 0.8961\n",
            "Epoch 3/5\n",
            " 46/265 [====>.........................] - ETA: 56s - loss: 0.9816 - accuracy: 0.7014\n",
            "\n",
            "done.\n",
            "Visually inspect loss plot and select learning rate associated with falling loss\n"
          ],
          "name": "stdout"
        },
        {
          "output_type": "display_data",
          "data": {
            "image/png": "[encoded data removed]",
            "text/plain": [
              "<Figure size 432x288 with 1 Axes>"
            ]
          },
          "metadata": {
            "tags": [],
            "needs_background": "light"
          }
        }
      ]
    },
    {
      "cell_type": "markdown",
      "metadata": {
        "id": "WqDdOhgINLl8",
        "colab_type": "text"
      },
      "source": [
        "**It should be noted that I had to run this on a colab GPU runtime and limit the number of epochs to 10 due to the time restriction of 3 hours.**"
      ]
    },
    {
      "cell_type": "markdown",
      "metadata": {
        "id": "OSOgJUbRQZLP",
        "colab_type": "text"
      },
      "source": [
        "The plot above indicates that an optimal learning rate might be somewhere around 1e-4.\n",
        "\n",
        "\n",
        "\n",
        "---\n",
        "\n",
        "\n",
        "\n",
        "---\n",
        "\n"
      ]
    },
    {
      "cell_type": "markdown",
      "metadata": {
        "id": "eUofXFkGDDJ6",
        "colab_type": "text"
      },
      "source": [
        "I will use the learning rate found in the plot above as well as the autofit functionality provided by ktrain. This will help prevent overfitting by observing when the model's loss output stops decreasing.  This will also create a callback point for that state so that the model can be saved in it's most optimal state."
      ]
    },
    {
      "cell_type": "code",
      "metadata": {
        "id": "K3YjQcXt_N2r",
        "colab_type": "code",
        "colab": {
          "base_uri": "https://localhost:8080/",
          "height": 629
        },
        "outputId": "c5425e58-e61c-4afa-912c-4555af2a4c55"
      },
      "source": [
        "learner.autofit(1e-4)"
      ],
      "execution_count": 26,
      "outputs": [
        {
          "output_type": "display_data",
          "data": {
            "text/html": [
              "\n",
              "  <style>\n",
              "    pre {\n",
              "        white-space: pre-wrap;\n",
              "    }\n",
              "  </style>\n",
              "  "
            ],
            "text/plain": [
              "<IPython.core.display.HTML object>"
            ]
          },
          "metadata": {
            "tags": []
          }
        },
        {
          "output_type": "stream",
          "text": [
            "early_stopping automatically enabled at patience=5\n",
            "reduce_on_plateau automatically enabled at patience=2\n",
            "\n",
            "\n",
            "begin training using triangular learning rate policy with max lr of 0.0001...\n",
            "Train for 266 steps, validate for 24 steps\n",
            "Epoch 1/1024\n",
            "266/266 [==============================] - 75s 281ms/step - loss: 0.3141 - accuracy: 0.8998 - val_loss: 0.1268 - val_accuracy: 0.9680\n",
            "Epoch 2/1024\n",
            "266/266 [==============================] - 71s 267ms/step - loss: 0.0787 - accuracy: 0.9840 - val_loss: 0.0993 - val_accuracy: 0.9813\n",
            "Epoch 3/1024\n",
            "266/266 [==============================] - 70s 263ms/step - loss: 0.0523 - accuracy: 0.9885 - val_loss: 0.0995 - val_accuracy: 0.9773\n",
            "Epoch 4/1024\n",
            "266/266 [==============================] - 70s 264ms/step - loss: 0.0544 - accuracy: 0.9871 - val_loss: 0.0820 - val_accuracy: 0.9840\n",
            "Epoch 5/1024\n",
            "266/266 [==============================] - 70s 263ms/step - loss: 0.0344 - accuracy: 0.9920 - val_loss: 0.1123 - val_accuracy: 0.9787\n",
            "Epoch 6/1024\n",
            "266/266 [==============================] - 71s 265ms/step - loss: 0.0600 - accuracy: 0.9861 - val_loss: 0.0792 - val_accuracy: 0.9800\n",
            "Epoch 7/1024\n",
            "266/266 [==============================] - 70s 263ms/step - loss: 0.0405 - accuracy: 0.9911 - val_loss: 0.0806 - val_accuracy: 0.9867\n",
            "Epoch 8/1024\n",
            "265/266 [============================>.] - ETA: 0s - loss: 0.0565 - accuracy: 0.9896\n",
            "Epoch 00008: Reducing Max LR on Plateau: new max lr will be 5e-05 (if not early_stopping).\n",
            "266/266 [==============================] - 70s 263ms/step - loss: 0.0563 - accuracy: 0.9896 - val_loss: 0.1189 - val_accuracy: 0.9827\n",
            "Epoch 9/1024\n",
            "266/266 [==============================] - 70s 263ms/step - loss: 0.0191 - accuracy: 0.9967 - val_loss: 0.0806 - val_accuracy: 0.9880\n",
            "Epoch 10/1024\n",
            "265/266 [============================>.] - ETA: 0s - loss: 0.0128 - accuracy: 0.9983\n",
            "Epoch 00010: Reducing Max LR on Plateau: new max lr will be 2.5e-05 (if not early_stopping).\n",
            "266/266 [==============================] - 70s 263ms/step - loss: 0.0127 - accuracy: 0.9984 - val_loss: 0.0823 - val_accuracy: 0.9893\n",
            "Epoch 11/1024\n",
            "265/266 [============================>.] - ETA: 0s - loss: 0.0077 - accuracy: 0.9983Restoring model weights from the end of the best epoch.\n",
            "266/266 [==============================] - 70s 264ms/step - loss: 0.0077 - accuracy: 0.9984 - val_loss: 0.0925 - val_accuracy: 0.9867\n",
            "Epoch 00011: early stopping\n",
            "Weights from best epoch have been loaded into model.\n"
          ],
          "name": "stdout"
        },
        {
          "output_type": "execute_result",
          "data": {
            "text/plain": [
              "<tensorflow.python.keras.callbacks.History at 0x7fc32e8b7b38>"
            ]
          },
          "metadata": {
            "tags": []
          },
          "execution_count": 26
        }
      ]
    },
    {
      "cell_type": "code",
      "metadata": {
        "id": "0UV3Nj19XVha",
        "colab_type": "code",
        "colab": {
          "base_uri": "https://localhost:8080/",
          "height": 374
        },
        "outputId": "f49386cb-9c70-42ba-e094-276097b2b9e6"
      },
      "source": [
        "learner.validate(class_names=t.get_classes())"
      ],
      "execution_count": 27,
      "outputs": [
        {
          "output_type": "display_data",
          "data": {
            "text/html": [
              "\n",
              "  <style>\n",
              "    pre {\n",
              "        white-space: pre-wrap;\n",
              "    }\n",
              "  </style>\n",
              "  "
            ],
            "text/plain": [
              "<IPython.core.display.HTML object>"
            ]
          },
          "metadata": {
            "tags": []
          }
        },
        {
          "output_type": "stream",
          "text": [
            "                        precision    recall  f1-score   support\n",
            "\n",
            "Product Specifications       0.97      0.99      0.98        74\n",
            "  Product Availability       0.96      0.96      0.96       108\n",
            "    Product Comparison       0.99      0.98      0.99       130\n",
            "              Shipping       0.98      0.96      0.97       123\n",
            "     Returns & Refunds       0.98      0.98      0.98       122\n",
            "      Sales/Promotions       0.96      1.00      0.98        71\n",
            "           Omnichannel       1.00      0.99      1.00       122\n",
            "\n",
            "              accuracy                           0.98       750\n",
            "             macro avg       0.98      0.98      0.98       750\n",
            "          weighted avg       0.98      0.98      0.98       750\n",
            "\n"
          ],
          "name": "stdout"
        },
        {
          "output_type": "execute_result",
          "data": {
            "text/plain": [
              "array([[ 73,   0,   0,   0,   0,   1,   0],\n",
              "       [  0, 104,   0,   1,   1,   2,   0],\n",
              "       [  0,   0, 128,   2,   0,   0,   0],\n",
              "       [  0,   4,   1, 118,   0,   0,   0],\n",
              "       [  2,   0,   0,   0, 120,   0,   0],\n",
              "       [  0,   0,   0,   0,   0,  71,   0],\n",
              "       [  0,   0,   0,   0,   1,   0, 121]])"
            ]
          },
          "metadata": {
            "tags": []
          },
          "execution_count": 27
        }
      ]
    },
    {
      "cell_type": "markdown",
      "metadata": {
        "id": "zoJzT0O3EG3L",
        "colab_type": "text"
      },
      "source": [
        "# Making Predictions on New Data"
      ]
    },
    {
      "cell_type": "code",
      "metadata": {
        "id": "yLoCBMfJEIoy",
        "colab_type": "code",
        "colab": {
          "base_uri": "https://localhost:8080/",
          "height": 17
        },
        "outputId": "dbee9009-2607-485b-d959-9e89f8573f92"
      },
      "source": [
        "predictor = ktrain.get_predictor(learner.model, preproc=t)"
      ],
      "execution_count": 28,
      "outputs": [
        {
          "output_type": "display_data",
          "data": {
            "text/html": [
              "\n",
              "  <style>\n",
              "    pre {\n",
              "        white-space: pre-wrap;\n",
              "    }\n",
              "  </style>\n",
              "  "
            ],
            "text/plain": [
              "<IPython.core.display.HTML object>"
            ]
          },
          "metadata": {
            "tags": []
          }
        }
      ]
    },
    {
      "cell_type": "code",
      "metadata": {
        "id": "YNk2hiTyEMcM",
        "colab_type": "code",
        "colab": {
          "base_uri": "https://localhost:8080/",
          "height": 35
        },
        "outputId": "7266ebda-b438-4a9a-f6f4-d79c937830b2"
      },
      "source": [
        "test_question1 = 'What is the expected deliverty time for an order placed on a Monday?'\n",
        "test_question2 = 'How much wood could a woodchuck chuck if a woodchuck could chuck wood?'\n",
        "\n",
        "predictor.predict(test_question1)"
      ],
      "execution_count": 29,
      "outputs": [
        {
          "output_type": "display_data",
          "data": {
            "text/html": [
              "\n",
              "  <style>\n",
              "    pre {\n",
              "        white-space: pre-wrap;\n",
              "    }\n",
              "  </style>\n",
              "  "
            ],
            "text/plain": [
              "<IPython.core.display.HTML object>"
            ]
          },
          "metadata": {
            "tags": []
          }
        },
        {
          "output_type": "display_data",
          "data": {
            "text/html": [
              ""
            ],
            "text/plain": [
              "<IPython.core.display.HTML object>"
            ]
          },
          "metadata": {
            "tags": []
          }
        },
        {
          "output_type": "execute_result",
          "data": {
            "application/vnd.google.colaboratory.intrinsic+json": {
              "type": "string"
            },
            "text/plain": [
              "'Shipping'"
            ]
          },
          "metadata": {
            "tags": []
          },
          "execution_count": 29
        }
      ]
    },
    {
      "cell_type": "code",
      "metadata": {
        "id": "qOznEKb0YNw-",
        "colab_type": "code",
        "colab": {
          "base_uri": "https://localhost:8080/",
          "height": 35
        },
        "outputId": "320012b8-da9a-4daa-e742-c465a3ccc387"
      },
      "source": [
        "# A fun prediction.  I guess woodchucks chucking wood constitutes shipping?\n",
        "predictor.predict(test_question2)"
      ],
      "execution_count": 30,
      "outputs": [
        {
          "output_type": "display_data",
          "data": {
            "text/html": [
              "\n",
              "  <style>\n",
              "    pre {\n",
              "        white-space: pre-wrap;\n",
              "    }\n",
              "  </style>\n",
              "  "
            ],
            "text/plain": [
              "<IPython.core.display.HTML object>"
            ]
          },
          "metadata": {
            "tags": []
          }
        },
        {
          "output_type": "display_data",
          "data": {
            "text/html": [
              ""
            ],
            "text/plain": [
              "<IPython.core.display.HTML object>"
            ]
          },
          "metadata": {
            "tags": []
          }
        },
        {
          "output_type": "execute_result",
          "data": {
            "application/vnd.google.colaboratory.intrinsic+json": {
              "type": "string"
            },
            "text/plain": [
              "'Shipping'"
            ]
          },
          "metadata": {
            "tags": []
          },
          "execution_count": 30
        }
      ]
    },
    {
      "cell_type": "code",
      "metadata": {
        "id": "WXRCtbpRET7y",
        "colab_type": "code",
        "colab": {
          "base_uri": "https://localhost:8080/",
          "height": 51
        },
        "outputId": "c78fa866-2007-40f4-c0f5-86671a6aa4c7"
      },
      "source": [
        "# predicted probability scores for each category\n",
        "predictor.predict_proba(test_question1)"
      ],
      "execution_count": 31,
      "outputs": [
        {
          "output_type": "display_data",
          "data": {
            "text/html": [
              "\n",
              "  <style>\n",
              "    pre {\n",
              "        white-space: pre-wrap;\n",
              "    }\n",
              "  </style>\n",
              "  "
            ],
            "text/plain": [
              "<IPython.core.display.HTML object>"
            ]
          },
          "metadata": {
            "tags": []
          }
        },
        {
          "output_type": "display_data",
          "data": {
            "text/html": [
              ""
            ],
            "text/plain": [
              "<IPython.core.display.HTML object>"
            ]
          },
          "metadata": {
            "tags": []
          }
        },
        {
          "output_type": "execute_result",
          "data": {
            "text/plain": [
              "array([0.00372046, 0.092062  , 0.01295981, 0.757427  , 0.00256072,\n",
              "       0.12997694, 0.00129312], dtype=float32)"
            ]
          },
          "metadata": {
            "tags": []
          },
          "execution_count": 31
        }
      ]
    },
    {
      "cell_type": "code",
      "metadata": {
        "id": "oW7R8Z9MEXlL",
        "colab_type": "code",
        "colab": {
          "base_uri": "https://localhost:8080/",
          "height": 34
        },
        "outputId": "78b1a660-eecd-40f4-f511-46f008af00eb"
      },
      "source": [
        "!pip3 install -q git+https://github.com/amaiya/eli5@tfkeras_0_10_1"
      ],
      "execution_count": 32,
      "outputs": [
        {
          "output_type": "display_data",
          "data": {
            "text/html": [
              "\n",
              "  <style>\n",
              "    pre {\n",
              "        white-space: pre-wrap;\n",
              "    }\n",
              "  </style>\n",
              "  "
            ],
            "text/plain": [
              "<IPython.core.display.HTML object>"
            ]
          },
          "metadata": {
            "tags": []
          }
        },
        {
          "output_type": "stream",
          "text": [
            "  Building wheel for eli5 (setup.py) ... \u001b[?25l\u001b[?25hdone\n"
          ],
          "name": "stdout"
        }
      ]
    },
    {
      "cell_type": "code",
      "metadata": {
        "id": "y7d4wBPnEYNX",
        "colab_type": "code",
        "colab": {
          "base_uri": "https://localhost:8080/",
          "height": 169
        },
        "outputId": "bfc61b49-3a43-4abe-c8b5-9ebc807e545e"
      },
      "source": [
        "# To observe which words influenced the classification of text in the model\n",
        "predictor.explain(test_question1)"
      ],
      "execution_count": 33,
      "outputs": [
        {
          "output_type": "display_data",
          "data": {
            "text/html": [
              "\n",
              "  <style>\n",
              "    pre {\n",
              "        white-space: pre-wrap;\n",
              "    }\n",
              "  </style>\n",
              "  "
            ],
            "text/plain": [
              "<IPython.core.display.HTML object>"
            ]
          },
          "metadata": {
            "tags": []
          }
        },
        {
          "output_type": "display_data",
          "data": {
            "text/html": [
              ""
            ],
            "text/plain": [
              "<IPython.core.display.HTML object>"
            ]
          },
          "metadata": {
            "tags": []
          }
        },
        {
          "output_type": "display_data",
          "data": {
            "text/html": [
              ""
            ],
            "text/plain": [
              "<IPython.core.display.HTML object>"
            ]
          },
          "metadata": {
            "tags": []
          }
        },
        {
          "output_type": "execute_result",
          "data": {
            "text/html": [
              "\n",
              "    <style>\n",
              "    table.eli5-weights tr:hover {\n",
              "        filter: brightness(85%);\n",
              "    }\n",
              "</style>\n",
              "\n",
              "\n",
              "\n",
              "    \n",
              "\n",
              "    \n",
              "\n",
              "    \n",
              "\n",
              "    \n",
              "\n",
              "    \n",
              "\n",
              "    \n",
              "\n",
              "\n",
              "    \n",
              "\n",
              "    \n",
              "\n",
              "    \n",
              "\n",
              "    \n",
              "        \n",
              "\n",
              "    \n",
              "\n",
              "        \n",
              "\n",
              "        \n",
              "    \n",
              "        \n",
              "        \n",
              "    \n",
              "        <p style=\"margin-bottom: 0.5em; margin-top: 0em\">\n",
              "            <b>\n",
              "    \n",
              "        y=Shipping\n",
              "    \n",
              "</b>\n",
              "\n",
              "    \n",
              "    (probability <b>0.641</b>, score <b>0.383</b>)\n",
              "\n",
              "top features\n",
              "        </p>\n",
              "    \n",
              "    <table class=\"eli5-weights\"\n",
              "           style=\"border-collapse: collapse; border: none; margin-top: 0em; table-layout: auto; margin-bottom: 2em;\">\n",
              "        <thead>\n",
              "        <tr style=\"border: none;\">\n",
              "            \n",
              "                <th style=\"padding: 0 1em 0 0.5em; text-align: right; border: none;\" title=\"Feature contribution already accounts for the feature value (for linear models, contribution = weight * feature value), and the sum of feature contributions is equal to the score or, for some classifiers, to the probability. Feature values are shown if &quot;show_feature_values&quot; is True.\">\n",
              "                    Contribution<sup>?</sup>\n",
              "                </th>\n",
              "            \n",
              "            <th style=\"padding: 0 0.5em 0 0.5em; text-align: left; border: none;\">Feature</th>\n",
              "            \n",
              "        </tr>\n",
              "        </thead>\n",
              "        <tbody>\n",
              "        \n",
              "            <tr style=\"background-color: hsl(120, 100.00%, 80.00%); border: none;\">\n",
              "    <td style=\"padding: 0 1em 0 0.5em; text-align: right; border: none;\">\n",
              "        +0.719\n",
              "    </td>\n",
              "    <td style=\"padding: 0 0.5em 0 0.5em; text-align: left; border: none;\">\n",
              "        &lt;BIAS&gt;\n",
              "    </td>\n",
              "    \n",
              "</tr>\n",
              "        \n",
              "        \n",
              "\n",
              "        \n",
              "        \n",
              "            <tr style=\"background-color: hsl(0, 100.00%, 88.26%); border: none;\">\n",
              "    <td style=\"padding: 0 1em 0 0.5em; text-align: right; border: none;\">\n",
              "        -0.336\n",
              "    </td>\n",
              "    <td style=\"padding: 0 0.5em 0 0.5em; text-align: left; border: none;\">\n",
              "        Highlighted in text (sum)\n",
              "    </td>\n",
              "    \n",
              "</tr>\n",
              "        \n",
              "\n",
              "        </tbody>\n",
              "    </table>\n",
              "\n",
              "    \n",
              "\n",
              "\n",
              "\n",
              "    <p style=\"margin-bottom: 2.5em; margin-top:-0.5em;\">\n",
              "        <span style=\"background-color: hsl(0, 100.00%, 86.68%); opacity: 0.84\" title=\"-0.527\">what</span><span style=\"opacity: 0.80\"> </span><span style=\"background-color: hsl(0, 100.00%, 87.03%); opacity: 0.84\" title=\"-0.508\">is</span><span style=\"opacity: 0.80\"> </span><span style=\"background-color: hsl(0, 100.00%, 83.79%); opacity: 0.86\" title=\"-0.698\">the</span><span style=\"opacity: 0.80\"> </span><span style=\"background-color: hsl(120, 100.00%, 89.03%); opacity: 0.83\" title=\"0.400\">expected</span><span style=\"opacity: 0.80\"> </span><span style=\"background-color: hsl(120, 100.00%, 73.03%); opacity: 0.91\" title=\"1.445\">deliverty</span><span style=\"opacity: 0.80\"> </span><span style=\"background-color: hsl(0, 100.00%, 87.35%); opacity: 0.84\" title=\"-0.490\">time</span><span style=\"opacity: 0.80\"> </span><span style=\"background-color: hsl(0, 100.00%, 83.05%); opacity: 0.86\" title=\"-0.744\">for</span><span style=\"opacity: 0.80\"> </span><span style=\"background-color: hsl(0, 100.00%, 69.43%); opacity: 0.94\" title=\"-1.728\">an</span><span style=\"opacity: 0.80\"> </span><span style=\"background-color: hsl(0, 100.00%, 60.67%); opacity: 1.00\" title=\"-2.476\">order</span><span style=\"opacity: 0.80\"> </span><span style=\"background-color: hsl(0, 100.00%, 60.00%); opacity: 1.00\" title=\"-2.537\">placed</span><span style=\"opacity: 0.80\"> </span><span style=\"background-color: hsl(0, 100.00%, 66.75%); opacity: 0.95\" title=\"-1.948\">on</span><span style=\"opacity: 0.80\"> </span><span style=\"background-color: hsl(0, 100.00%, 88.87%); opacity: 0.83\" title=\"-0.408\">a</span><span style=\"opacity: 0.80\"> </span><span style=\"background-color: hsl(120, 100.00%, 78.42%); opacity: 0.88\" title=\"1.051\">monday</span><span style=\"opacity: 0.80\">?</span>\n",
              "    </p>\n",
              "\n",
              "\n",
              "    \n",
              "\n",
              "    \n",
              "\n",
              "    \n",
              "\n",
              "    \n",
              "\n",
              "\n",
              "    \n",
              "\n",
              "    \n",
              "\n",
              "    \n",
              "\n",
              "    \n",
              "\n",
              "    \n",
              "\n",
              "    \n",
              "\n",
              "\n",
              "    \n",
              "\n",
              "    \n",
              "\n",
              "    \n",
              "\n",
              "    \n",
              "\n",
              "    \n",
              "\n",
              "    \n",
              "\n",
              "\n",
              "\n"
            ],
            "text/plain": [
              "<IPython.core.display.HTML object>"
            ]
          },
          "metadata": {
            "tags": []
          },
          "execution_count": 33
        }
      ]
    },
    {
      "cell_type": "markdown",
      "metadata": {
        "id": "Y80D7je1U0ye",
        "colab_type": "text"
      },
      "source": [
        "# Discussion"
      ]
    },
    {
      "cell_type": "markdown",
      "metadata": {
        "id": "nrBRJChXU4ab",
        "colab_type": "text"
      },
      "source": [
        "* **What was your approach?**\n",
        "\n",
        "  For a quick turnaround model like this, I knew I could rely on the ktrain package. It does an excellent job of wrapping a lot of transformer models for quick classification purposes.\n",
        "\n",
        "* **Where did you draw inspiration from?** \n",
        "\n",
        "  I have created a few models with this library before. However, all of them had previously been binary classifcation cases. This was the first that was a multi-label situation.\n",
        "\n",
        "* **What did you do or try to do that was novel?**\n",
        "\n",
        "  Given the short assessment time period, there wasn't much I could really do that was novel or different than any other text classification situation. I suppose using the utility to find the optimal learning rate could be considered novel or the autofit tool. However, these are all part of the ktrain package.\n",
        "\n",
        "  I guess the inflential text that I added at the end is a little unique as well. It certainly helps debug some NLP projects that are overfitting or misclassifying specific texts. \n",
        "\n",
        "* **What failed?**\n",
        "\n",
        "  I initially tried to run this locally on a CPU's. I quickly realized that would take too long and switched to a Google Colab notebook. There I was able to run this on GPU's and accomplish the task much more quickly.\n",
        "\n",
        "* **What were your results?**\n",
        "\n",
        "  The results were outstanding!! The accuracy on the test set was 0.98 and the F1 scores were all exceptionally high. \n",
        "\n",
        "* **How could your results be improved?**\n",
        "\n",
        "  It is certainly possible to improve the results by using a cased BERT model or by trying a different learning rate.  However, I think the initial results were fairly impressive. \n",
        "\n",
        "* **What would you do if you had another day? Another week? Another month?** \n",
        "\n",
        "  Given the initial results. I feel that it would be best to validate this model with more external data. Otherwise, this might be good to go the way it is.\n",
        "\n",
        "* **How well does your model generalize outside the data provided?**\n",
        "\n",
        "   In the one test scenario I tested, it seemed to work quite well. This could be futher supported with more testing. "
      ]
    },
    {
      "cell_type": "code",
      "metadata": {
        "id": "aZDBJAECZK0Q",
        "colab_type": "code",
        "colab": {}
      },
      "source": [
        ""
      ],
      "execution_count": null,
      "outputs": []
    }
  ]
}